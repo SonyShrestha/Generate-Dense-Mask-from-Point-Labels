{
 "cells": [
  {
   "cell_type": "markdown",
   "metadata": {
    "id": "Ub24AfMKFbCo"
   },
   "source": [
    "# Installations\n"
   ]
  },
  {
   "cell_type": "code",
   "execution_count": 1,
   "metadata": {
    "colab": {
     "base_uri": "https://localhost:8080/"
    },
    "id": "de-zcFijfovt",
    "outputId": "79cd482e-0b85-4b5e-876d-070f05a91c57"
   },
   "outputs": [
    {
     "name": "stdout",
     "output_type": "stream",
     "text": [
      "Cloning into 'Single-Underwater-Image-Enhancement-and-Color-Restoration'...\n",
      "remote: Enumerating objects: 247, done.\u001b[K\n",
      "remote: Counting objects: 100% (33/33), done.\u001b[K\n",
      "remote: Compressing objects: 100% (20/20), done.\u001b[K\n",
      "remote: Total 247 (delta 15), reused 13 (delta 13), pack-reused 214 (from 1)\u001b[K\n",
      "Receiving objects: 100% (247/247), 4.02 MiB | 13.20 MiB/s, done.\n",
      "Resolving deltas: 100% (86/86), done.\n"
     ]
    }
   ],
   "source": [
    "!git clone https://github.com/wangyanckxx/Single-Underwater-Image-Enhancement-and-Color-Restoration.git"
   ]
  },
  {
   "cell_type": "markdown",
   "metadata": {
    "id": "febQU2DqF69C"
   },
   "source": [
    "# Import"
   ]
  },
  {
   "cell_type": "code",
   "execution_count": 2,
   "metadata": {
    "colab": {
     "base_uri": "https://localhost:8080/"
    },
    "id": "aDmM1k6oyiy5",
    "outputId": "57a2eb71-4c50-4fa1-dcd5-f8d3919e89a7"
   },
   "outputs": [
    {
     "name": "stdout",
     "output_type": "stream",
     "text": [
      "Mounted at /content/drive\n"
     ]
    }
   ],
   "source": [
    "import os\n",
    "import pandas as pd\n",
    "from google.colab import drive\n",
    "import numpy as np\n",
    "import yaml\n",
    "import shutil\n",
    "import torch\n",
    "from PIL import Image\n",
    "import matplotlib.pyplot as plt\n",
    "import cv2\n",
    "import seaborn as sns\n",
    "from pathlib import Path\n",
    "\n",
    "import logging\n",
    "logger = logging.getLogger(__name__)\n",
    "# Set the logging level (optional)\n",
    "logger.setLevel(logging.DEBUG)\n",
    "\n",
    "DRIVE_MOUNT_DIR = '/content/drive'\n",
    "drive.mount(DRIVE_MOUNT_DIR, force_remount=True)"
   ]
  },
  {
   "cell_type": "code",
   "execution_count": 3,
   "metadata": {
    "id": "QNGaUlVnDmqt"
   },
   "outputs": [],
   "source": [
    "with open('yolov8-config.yaml', 'r') as stream:\n",
    "    yolov8_config = yaml.safe_load(stream)\n",
    "\n",
    "# print(yolov8_config)\n",
    "# print(list(yolov8_config['val_dataset'].keys()))"
   ]
  },
  {
   "cell_type": "code",
   "execution_count": 4,
   "metadata": {
    "id": "m2g5x4djD4Y8"
   },
   "outputs": [],
   "source": [
    "folder='SEAVIEW_ATL'\n",
    "region='ATL'\n",
    "val_qudratid = [x.replace('.jpg','') for x in yolov8_config['val_dataset'][folder]]\n",
    "# val_qudratid"
   ]
  },
  {
   "cell_type": "code",
   "execution_count": 5,
   "metadata": {
    "id": "38XsWNiKr4R6"
   },
   "outputs": [],
   "source": [
    "if os.path.exists('/content/datasets'):\n",
    "  shutil.rmtree('/content/datasets')\n",
    "if os.path.exists('/content/weights'):\n",
    "  shutil.rmtree('/content/weights')\n",
    "\n",
    "os.mkdir('/content/weights')\n",
    "\n",
    "os.mkdir('/content/datasets')\n",
    "os.mkdir('/content/datasets/images')\n",
    "os.mkdir('/content/datasets/masks')\n",
    "os.mkdir('/content/datasets/predicted_masks')"
   ]
  },
  {
   "cell_type": "code",
   "execution_count": null,
   "metadata": {
    "colab": {
     "base_uri": "https://localhost:8080/"
    },
    "id": "rBqptGDvhrb2",
    "outputId": "dcb933aa-818c-4b11-e9a8-a6b15ceeae1e"
   },
   "outputs": [
    {
     "name": "stdout",
     "output_type": "stream",
     "text": [
      "********    file   ******** 20028206201.jpg\n",
      "AtomsphericLight [122.73602992 221.56893357 221.18312847]\n",
      "Theta_a 1.0\n",
      "Theta_b 1.0\n",
      "I_min 0.23232323232323238\n",
      "I_max 0.6767676767676767\n",
      "Max [0.7843105761797816, 0.9052213953423572, 0.9050560834854592]\n",
      "********    file   ******** 20046224001.jpg\n",
      "AtomsphericLight [245.39267871 248.35969691 244.66541124]\n",
      "Theta_a 1.0\n",
      "Theta_b 1.0\n",
      "I_min 0.26582278481012656\n",
      "I_max 0.7974683544303798\n",
      "Max [0.9144229001179075, 0.9114187940011563, 0.9141684725096418]\n",
      "********    file   ******** 20046225501.jpg\n",
      "AtomsphericLight [240.87539815 245.09987991 242.53018002]\n",
      "Theta_a 1.0\n",
      "Theta_b 1.0\n",
      "I_min 0.20833333333333337\n",
      "I_max 0.7708333333333334\n",
      "Max [0.9252725618337506, 0.934720507057323, 0.925782440196742]\n",
      "********    file   ******** 20046225701.jpg\n",
      "AtomsphericLight [243.20446773 245.18680812 240.4266503 ]\n",
      "Theta_a 1.0\n",
      "Theta_b 1.0\n",
      "I_min 0.20560747663551404\n",
      "I_max 0.691588785046729\n",
      "Max [0.8930940693802948, 0.8898799043442241, 0.8918589130509023]\n",
      "********    file   ******** 20046225901.jpg\n",
      "AtomsphericLight [247.0073725  247.67830508 242.94654886]\n",
      "Theta_a 1.0\n",
      "Theta_b 1.0\n",
      "I_min 0.21978021978021978\n",
      "I_max 0.7802197802197802\n",
      "Max [0.9068853602482935, 0.9152125733444261, 0.9053289684080977]\n",
      "********    file   ******** 20046226201.jpg\n",
      "AtomsphericLight [238.40416343 242.87499919 238.56527694]\n",
      "Theta_a 1.0\n",
      "Theta_b 1.0\n",
      "I_min 0.19117647058823528\n",
      "I_max 0.7058823529411764\n",
      "Max [0.8489959094514121, 0.8147195086252643, 0.811372382346569]\n",
      "********    file   ******** 20046281801.jpg\n",
      "AtomsphericLight [234.7448572  236.22737465 227.26300679]\n",
      "Theta_a 1.0\n",
      "Theta_b 1.0\n",
      "I_min 0.134020618556701\n",
      "I_max 0.5979381443298969\n",
      "Max [0.8423820659831673, 0.8603040672744975, 0.8415931971842512]\n",
      "********    file   ******** 24024269702.jpg\n",
      "AtomsphericLight [151.91283216 135.0362614   38.37953502]\n",
      "Theta_a 1.4291613706831042e-265\n",
      "Theta_b 1.0\n",
      "I_min 0.13157894736842102\n",
      "I_max 0.9342105263157895\n",
      "Max [0.9999999629883213, 0.9925945334670514, 0.9215217415350369]\n",
      "********    file   ******** 25009010201.jpg\n",
      "AtomsphericLight [233.66570261 235.74886934 224.27183982]\n",
      "Theta_a 1.0\n",
      "Theta_b 1.0\n",
      "I_min 0.1527777777777778\n",
      "I_max 0.8472222222222222\n",
      "Max [0.9015687490061854, 0.9066803647896523, 0.8974458652063054]\n",
      "********    file   ******** 25009010301.jpg\n",
      "AtomsphericLight [232.17235288 235.17893429 224.85174244]\n",
      "Theta_a 1.0\n",
      "Theta_b 1.0\n",
      "I_min 0.19318181818181823\n",
      "I_max 0.8977272727272727\n",
      "Max [0.9526213835350907, 0.9489750452860263, 0.9110525156738006]\n",
      "********    file   ******** 25016076601.jpg\n",
      "AtomsphericLight [41.65538926 47.49873845 41.37669548]\n",
      "Theta_a 0.0\n",
      "Theta_b 1.0\n",
      "I_min 0.1724137931034483\n",
      "I_max 0.9605911330049262\n",
      "Max [0.6578305587646062, 0.643375685932588, 0.6208278940983627]\n",
      "********    file   ******** 25016136102.jpg\n",
      "AtomsphericLight [178.75306736 168.30946883  26.95327204]\n",
      "Theta_a 4.979642715926786e-40\n",
      "Theta_b 1.0\n",
      "I_min 0.07582938388625593\n",
      "I_max 0.966824644549763\n",
      "Max [0.8377650198243332, 0.8039325680422695, 0.8859882543494172]\n",
      "********    file   ******** 25016137202.jpg\n",
      "AtomsphericLight [168.58735418 176.8363745   84.63759735]\n",
      "Theta_a 1.0\n",
      "Theta_b 1.0\n",
      "I_min 0.22580645161290325\n",
      "I_max 0.9032258064516129\n",
      "Max [0.7745975800266703, 0.802076950552247, 0.6536794629549113]\n",
      "********    file   ******** 25016137302.jpg\n",
      "AtomsphericLight [ 81.57372028 153.20153264  56.33248971]\n",
      "Theta_a 0.0\n",
      "Theta_b 1.0\n",
      "I_min 0.1205357142857143\n",
      "I_max 0.9732142857142857\n",
      "Max [0.6136686858045008, 0.8237615898033208, 0.7483232198680019]\n",
      "********    file   ******** 25016137702.jpg\n",
      "AtomsphericLight [50.45818102 69.94733853 40.06220122]\n",
      "Theta_a 0.0\n",
      "Theta_b 1.0\n",
      "I_min 0.07792207792207795\n",
      "I_max 0.9653679653679653\n",
      "Max [0.8777756315799083, 0.8865187713316924, 0.8650772745949303]\n",
      "********    file   ******** 25016137902.jpg\n",
      "AtomsphericLight [166.63656233 182.38290915  41.0619187 ]\n",
      "Theta_a 1.0\n",
      "Theta_b 1.0\n",
      "I_min 0.14634146341463417\n",
      "I_max 0.8292682926829268\n",
      "Max [0.7899620846621683, 0.80261305586686, 0.9999999931512499]\n",
      "********    file   ******** 25016138502.jpg\n",
      "AtomsphericLight [169.05965528 187.03711643  48.65165527]\n",
      "Theta_a 1.0\n",
      "Theta_b 1.0\n",
      "I_min 0.18823529411764706\n",
      "I_max 0.8\n",
      "Max [0.8521232438780193, 0.8716831850841891, 0.7576912870316828]\n",
      "********    file   ******** 25018041401.jpg\n",
      "AtomsphericLight [167.14237487 216.52938528 204.28717939]\n",
      "Theta_a 1.0\n",
      "Theta_b 1.0\n",
      "I_min 0.14102564102564108\n",
      "I_max 0.5641025641025641\n",
      "Max [0.8504269481310729, 0.8845422443701646, 0.8972035651904333]\n",
      "********    file   ******** 25018042401.jpg\n",
      "AtomsphericLight [138.59559714 199.10573097 187.33106186]\n"
     ]
    }
   ],
   "source": [
    "# Execute this only if you want to preprocess image\n",
    "PROJECT_ROOT_DIR = os.path.join(DRIVE_MOUNT_DIR, 'My Drive', 'challenge_2')\n",
    "original_image_path=os.path.join(PROJECT_ROOT_DIR, \"01_Data\", \"benthic_datasets\", \"mask_labels\", \"reef_support\", f\"SEAVIEW_{region}\", \"images\")\n",
    "\n",
    "# Preprocess only images present in point_labels_df\n",
    "quadratids_to_preprocess = ','.join(quadratids_to_preprocess+'.jpg' for quadratids_to_preprocess in sorted(val_qudratid))\n",
    "print(quadratids_to_preprocess)\n",
    "# quadratids_to_preprocess='20028206201.jpg,20046224001.jpg,20046225501.jpg,20046225701.jpg,20046225901.jpg,20046226201.jpg,20046281801.jpg,24024269702.jpg,25009010201.jpg,25009010301.jpg,25016076601.jpg,25016136102.jpg,25016137202.jpg,25016137302.jpg,25016137702.jpg,25016137902.jpg,25016138502.jpg,25018041401.jpg,25018042401.jpg,25018042501.jpg,25032122101.jpg,25032122301.jpg,25033076301.jpg,25033077201.jpg,25033077301.jpg'\n",
    "\n",
    "# Preprocess Images\n",
    "!python \"Single-Underwater-Image-Enhancement-and-Color-Restoration/Underwater Image Color Restoration/IBLA/main.py\" '{original_image_path}' '{quadratids_to_preprocess}'"
   ]
  }
 ],
 "metadata": {
  "colab": {
   "provenance": []
  },
  "kernelspec": {
   "display_name": "Python 3",
   "name": "python3"
  },
  "language_info": {
   "name": "python"
  }
 },
 "nbformat": 4,
 "nbformat_minor": 0
}
